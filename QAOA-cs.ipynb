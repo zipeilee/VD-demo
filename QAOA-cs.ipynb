{
 "cells": [
  {
   "cell_type": "code",
   "execution_count": 1,
   "id": "ea19824b-a84d-48d7-96b1-527a624e73a4",
   "metadata": {
    "tags": []
   },
   "outputs": [],
   "source": [
    "import random\n",
    "import numpy as np\n",
    "import cirq\n",
    "import warnings\n",
    "from cirq import NamedQubit, Circuit, identity_each, ZZ, H, X, depolarize, rx, DensityMatrixSimulator\n",
    "from typing import List, Tuple\n",
    "from typing import Callable\n",
    "from scipy.optimize import minimize\n",
    "# Suppress Cirq warnings\n",
    "warnings.filterwarnings(\"ignore\", category=UserWarning, module=\"cirq\")\n",
    "my_list = ['X', 'Y', 'Z']\n",
    "state0=np.array([[1],[0]])\n",
    "state1=np.array([[0],[1]])\n",
    "list_state=[state0,state1]\n",
    "#根据量子线路比特数和要采用的随机线路的数量生成要添加的具体随机幺正操作\n",
    "def gen_list_unitary(nqubits,nsamp):\n",
    "    list_unitary=[]\n",
    "    for l in range(nsamp):\n",
    "        string1=''\n",
    "        for k in range(nqubits):\n",
    "            selected_element = random.choice(my_list)\n",
    "            string1 = string1 + selected_element\n",
    "        list_unitary.append(string1)\n",
    "    return list_unitary\n",
    "II=np.array([[1,0],[0,1]])\n",
    "X=np.array([[0,1],[1,0]])\n",
    "Y=np.array([[0,-1j],[1j,0]])\n",
    "Z=np.array([[1,0],[0,-1]])\n",
    "Hm=np.sqrt(0.5)*np.array([[1,1],[1,-1]])\n",
    "Sdag=np.array([[1, 0], [0, -1j]])\n",
    "def get_matrix(gate):\n",
    "    if gate=='X':\n",
    "        return Hm\n",
    "    if gate=='Y':\n",
    "        return Hm@Sdag\n",
    "    if gate=='Z':\n",
    "        return II\n",
    "\n",
    "#获得幺正操作的矩阵形式\n",
    "def get_unitary(string):\n",
    "    u1=get_matrix(string[0])\n",
    "    for k in range(1,len(string)):\n",
    "        u1=np.kron(u1,get_matrix(string[k]))\n",
    "    return u1\n",
    "#根据字符串生成量子态\n",
    "def gen_state(string):\n",
    "    state_in1=list_state[int(string[0])]\n",
    "    for k in range(1,len(string)):\n",
    "        state_in1=np.kron(state_in1,list_state[int(string[k])])\n",
    "    return state_in1\n",
    "#计算量子态之间的迹距离\n",
    "def trace_distance(rho, sigma):\n",
    "    diff = rho - sigma\n",
    "    sqrt_diff = np.sqrt(np.dot(diff.conj().T, diff))\n",
    "    trace_dist = np.trace(sqrt_diff) / 2.0\n",
    "    return trace_dist"
   ]
  },
  {
   "cell_type": "code",
   "execution_count": 3,
   "id": "fe255f36-7977-4d71-8694-964071e7d700",
   "metadata": {
    "tags": []
   },
   "outputs": [],
   "source": [
    "def classical_shadow(nqubits,circuit,list_unitary,nsamp,shots):\n",
    "    shadow = []\n",
    "    #根据生成的list_unitary在给定的量子线路后施加随机pauli操作\n",
    "    for l in range(len(list_unitary)):\n",
    "        circ = circuit.copy()\n",
    "        qubits = list(circuit.all_qubits())\n",
    "        for k in range(nqubits):\n",
    "            if list_unitary[l][k] == 'X':\n",
    "                circ.append(cirq.H(qubits[k]))\n",
    "            elif list_unitary[l][k] == 'Y':\n",
    "                circ.append(cirq.H(qubits[k]))\n",
    "                circ.append(cirq.S(qubits[k])**-1)\n",
    "            elif list_unitary[l][k] == 'Z':\n",
    "                circ.append(cirq.I.on(qubits[k]))\n",
    "\n",
    "        circ.append(cirq.measure(*qubits, key='result'))\n",
    "        simulator = cirq.Simulator()\n",
    "        result = simulator.run(circ, repetitions=shots)\n",
    "        states = result.measurements['result']\n",
    "        #根据结果重建量子态\n",
    "        for state in states:\n",
    "            rho0 = 3 * np.conjugate(get_matrix(list_unitary[l][0]).T) @ list_state[int(state[0])] @ \\\n",
    "                   np.conjugate(list_state[int(state[0])].T) @ get_matrix(list_unitary[l][0]) - II\n",
    "\n",
    "            for k in range(1, nqubits):\n",
    "                rho1 = 3 * np.conjugate(get_matrix(list_unitary[l][k]).T) @ list_state[int(state[k])] @ \\\n",
    "                       np.conjugate(list_state[int(state[k])].T) @ get_matrix(list_unitary[l][k]) - II\n",
    "                rho0 = np.kron(rho0, rho1)\n",
    "            shadow.append(rho0)\n",
    "        shadow_state=shadow[0]\n",
    "    for k in range(1,len(shadow)):\n",
    "        shadow_state=shadow_state+shadow[k]\n",
    "    shadow_state=shadow_state/len(shadow)\n",
    "    return shadow_state"
   ]
  },
  {
   "cell_type": "code",
   "execution_count": 4,
   "id": "d44d3d94-b415-4343-a1d8-5cd23d53e5a3",
   "metadata": {
    "tags": []
   },
   "outputs": [],
   "source": [
    "square_graph = [(0, 1), (1, 2), (2, 3), (3,0)]\n",
    "def qaoa_hamiltonian(graph: List[Tuple[float]]) -> np.ndarray:\n",
    "    \"\"\"Returns the cost Hamiltonian associated to the input graph.\n",
    "    \"\"\"\n",
    "    # Get all the nodes of the graph\n",
    "    nodes = list({node for edge in graph for node in edge})\n",
    "    # Initialize the qubits. One for each node.\n",
    "    qreg = [NamedQubit(str(nn)) for nn in nodes]\n",
    "    # Define the Hamiltonian as a NumPy array\n",
    "    np_identity = np.eye(2 ** len(nodes))\n",
    "    zz_terms = np.real([Circuit([identity_each(*qreg), ZZ(qreg[i], qreg[j])]).unitary() for i, j in graph])\n",
    "    local_terms = [-0.5 * (np_identity - zz_term) for zz_term in zz_terms]\n",
    "    return sum(local_terms)"
   ]
  },
  {
   "cell_type": "code",
   "execution_count": 5,
   "id": "50e31b5b-e126-4634-b0e3-d175520d866a",
   "metadata": {
    "tags": []
   },
   "outputs": [],
   "source": [
    "def qaoa_ansatz(graph: List[Tuple[float]], params: List[float]) -> Circuit:\n",
    "    \"\"\"Generates a QAOA circuit associated to the input graph, for\n",
    "    a specific choice of variational parameters.\n",
    "\n",
    "    Args:\n",
    "        graph: The input graph.\n",
    "        params: The variational parameters.\n",
    "\n",
    "    Returns:\n",
    "        The QAOA circuit.\n",
    "    \"\"\"\n",
    "\n",
    "    # Get the list of unique nodes from the list of edges\n",
    "    nodes = list({node for edge in graph for node in edge})\n",
    "\n",
    "    # Initialize the qubits\n",
    "    qreg = [NamedQubit(str(nn)) for nn in nodes]\n",
    "\n",
    "    # Define the Hamiltonian evolution (up to an additive and a multiplicative constant)\n",
    "    def h_step(beta: float) -> Circuit:\n",
    "        return Circuit(cirq.ZZ(qreg[u], qreg[v]) ** (beta) for u, v in graph)\n",
    "\n",
    "    # Define the mixing evolution (up to an additive and a multiplicative constant)\n",
    "    def mix_step(gamma: float) -> Circuit:\n",
    "        return Circuit(cirq.X(qq) ** gamma for qq in qreg)\n",
    "\n",
    "    # State preparation layer\n",
    "    circ = Circuit(H.on_each(qreg))\n",
    "\n",
    "    # Apply QAOA steps\n",
    "    num_steps = len(params) // 2\n",
    "    betas, alphas = params[:num_steps], params[num_steps:]\n",
    "    for beta, alpha in zip(betas, alphas):\n",
    "        circ.append([h_step(beta) + mix_step(alpha)])\n",
    "    return circ"
   ]
  },
  {
   "cell_type": "code",
   "execution_count": 6,
   "id": "a3f286c8-0010-4edc-a53f-7b35648d9dca",
   "metadata": {
    "tags": []
   },
   "outputs": [
    {
     "data": {
      "text/html": [
       "<pre style=\"overflow: auto; white-space: pre;\">0: ───H───ZZ─────────────────────────ZZ───────X^0.3───ZZ─────────────────────────ZZ───────X^0.4───\n",
       "          │                          │                │                          │\n",
       "1: ───H───ZZ^0.1───ZZ────────────────┼────────X^0.3───ZZ^0.2───ZZ────────────────┼────────X^0.4───\n",
       "                   │                 │                         │                 │\n",
       "2: ───H────────────ZZ^0.1───ZZ───────┼────────X^0.3────────────ZZ^0.2───ZZ───────┼────────X^0.4───\n",
       "                            │        │                                  │        │\n",
       "3: ───H─────────────────────ZZ^0.1───ZZ^0.1───X^0.3─────────────────────ZZ^0.2───ZZ^0.2───X^0.4───</pre>"
      ],
      "text/plain": [
       "0: ───H───ZZ─────────────────────────ZZ───────X^0.3───ZZ─────────────────────────ZZ───────X^0.4───\n",
       "          │                          │                │                          │\n",
       "1: ───H───ZZ^0.1───ZZ────────────────┼────────X^0.3───ZZ^0.2───ZZ────────────────┼────────X^0.4───\n",
       "                   │                 │                         │                 │\n",
       "2: ───H────────────ZZ^0.1───ZZ───────┼────────X^0.3────────────ZZ^0.2───ZZ───────┼────────X^0.4───\n",
       "                            │        │                                  │        │\n",
       "3: ───H─────────────────────ZZ^0.1───ZZ^0.1───X^0.3─────────────────────ZZ^0.2───ZZ^0.2───X^0.4───"
      ]
     },
     "execution_count": 6,
     "metadata": {},
     "output_type": "execute_result"
    }
   ],
   "source": [
    "betas = [0.1, 0.2]\n",
    "alphas = [0.3, 0.4]\n",
    "params = betas + alphas\n",
    "qaoa_ansatz(square_graph, params)"
   ]
  },
  {
   "cell_type": "code",
   "execution_count": 7,
   "id": "e23db56a-87b2-42f1-8eb5-8030ec49bcac",
   "metadata": {
    "tags": []
   },
   "outputs": [],
   "source": [
    "def executor(obs: np.array, params: List[float],list_unitary,noise:float) -> float:\n",
    "    \"\"\"模拟带有级别为'noise'的去极化噪声的电路，并返回可观察值'obs'的期望值。\n",
    "    \"\"\"\n",
    "    circuit_qaoa=qaoa_ansatz(square_graph, params)\n",
    "    noisy_circuit=circuit_qaoa.with_noise(depolarize(p=noise))\n",
    "    shadow_state=classical_shadow(nqubits=4,circuit=circuit_qaoa,list_unitary=list_unitary,nsamp=50,shots=1024)\n",
    "    return np.real(np.trace(shadow_state @ obs))"
   ]
  },
  {
   "cell_type": "code",
   "execution_count": 8,
   "id": "ac8c704d-ef79-4ec1-acaa-2b9a4e0f27ee",
   "metadata": {
    "tags": []
   },
   "outputs": [
    {
     "data": {
      "text/plain": [
       "-1.6399701192809306"
      ]
     },
     "execution_count": 8,
     "metadata": {},
     "output_type": "execute_result"
    }
   ],
   "source": [
    "betas = [0.1, 0.2]\n",
    "alphas = [0.3, 0.4]\n",
    "params = betas + alphas\n",
    "nqubits=4\n",
    "nsamp=50\n",
    "hamiltonian = qaoa_hamiltonian(square_graph)\n",
    "LIST_UNITARY=gen_list_unitary(nqubits,nsamp)\n",
    "executor(obs=hamiltonian, params=params,list_unitary=LIST_UNITARY,noise=0.03)"
   ]
  },
  {
   "cell_type": "code",
   "execution_count": null,
   "id": "eef368a7-6ced-4f58-99ff-d1e430f95ecf",
   "metadata": {},
   "outputs": [],
   "source": []
  }
 ],
 "metadata": {
  "kernelspec": {
   "display_name": "cirq",
   "language": "python",
   "name": "cirq"
  },
  "language_info": {
   "codemirror_mode": {
    "name": "ipython",
    "version": 3
   },
   "file_extension": ".py",
   "mimetype": "text/x-python",
   "name": "python",
   "nbconvert_exporter": "python",
   "pygments_lexer": "ipython3",
   "version": "3.9.18"
  }
 },
 "nbformat": 4,
 "nbformat_minor": 5
}
